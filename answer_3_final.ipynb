{
  "nbformat": 4,
  "nbformat_minor": 0,
  "metadata": {
    "colab": {
      "name": "answer_3_final.ipynb",
      "version": "0.3.2",
      "provenance": [],
      "include_colab_link": true
    },
    "kernelspec": {
      "name": "python3",
      "display_name": "Python 3"
    },
    "accelerator": "GPU"
  },
  "cells": [
    {
      "cell_type": "markdown",
      "metadata": {
        "id": "view-in-github",
        "colab_type": "text"
      },
      "source": [
        "[View in Colaboratory](https://colab.research.google.com/github/ChetanMudgal/Boston-House-Pricing/blob/master/answer_3_final.ipynb)"
      ]
    },
    {
      "metadata": {
        "id": "1HViJcvklLXF",
        "colab_type": "code",
        "colab": {}
      },
      "cell_type": "code",
      "source": [
        "from google.colab import files\n",
        "import numpy as np\n",
        "import pandas as pd\n",
        "import seaborn as sns\n",
        "from sklearn import neural_network\n",
        "from sklearn.preprocessing import StandardScaler, Imputer\n",
        "from sklearn.metrics import r2_score, make_scorer\n",
        "from sklearn.model_selection import train_test_split, validation_curve\n",
        "import matplotlib.pyplot as plt\n"
      ],
      "execution_count": 0,
      "outputs": []
    },
    {
      "metadata": {
        "id": "RH2XgmzPlPzB",
        "colab_type": "code",
        "colab": {
          "resources": {
            "http://localhost:8080/nbextensions/google.colab/files.js": {
              "data": "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",
              "ok": true,
              "headers": [
                [
                  "content-type",
                  "application/javascript"
                ]
              ],
              "status": 200,
              "status_text": ""
            }
          },
          "base_uri": "https://localhost:8080/",
          "height": 72
        },
        "outputId": "47a5dcfc-66b1-4dd8-f09b-e12ff5e940cb"
      },
      "cell_type": "code",
      "source": [
        "uploaded = files.upload()"
      ],
      "execution_count": 2,
      "outputs": [
        {
          "output_type": "display_data",
          "data": {
            "text/html": [
              "\n",
              "     <input type=\"file\" id=\"files-fa697f05-adcc-46c8-8c44-58f925ab425c\" name=\"files[]\" multiple disabled />\n",
              "     <output id=\"result-fa697f05-adcc-46c8-8c44-58f925ab425c\">\n",
              "      Upload widget is only available when the cell has been executed in the\n",
              "      current browser session. Please rerun this cell to enable.\n",
              "      </output>\n",
              "      <script src=\"/nbextensions/google.colab/files.js\"></script> "
            ],
            "text/plain": [
              "<IPython.core.display.HTML object>"
            ]
          },
          "metadata": {
            "tags": []
          }
        },
        {
          "output_type": "stream",
          "text": [
            "Saving train3.csv to train3.csv\n"
          ],
          "name": "stdout"
        }
      ]
    },
    {
      "metadata": {
        "id": "SUGhm2lclQ-o",
        "colab_type": "code",
        "colab": {
          "base_uri": "https://localhost:8080/",
          "height": 34
        },
        "outputId": "54d5898f-0010-421e-d3f6-35f95f6fcbe5"
      },
      "cell_type": "code",
      "source": [
        "for fn in uploaded.keys():\n",
        "  print('User uploaded file \"{name}\" with length {length} bytes'.format(\n",
        "      name=fn, length=len(uploaded[fn])))"
      ],
      "execution_count": 3,
      "outputs": [
        {
          "output_type": "stream",
          "text": [
            "User uploaded file \"train3.csv\" with length 11882496 bytes\n"
          ],
          "name": "stdout"
        }
      ]
    },
    {
      "metadata": {
        "id": "GpF1rZrxlZdt",
        "colab_type": "code",
        "colab": {
          "base_uri": "https://localhost:8080/",
          "height": 34
        },
        "outputId": "4e693ec4-06c4-4889-9f79-28e744d891d8"
      },
      "cell_type": "code",
      "source": [
        "import io\n",
        "train = pd.read_csv(io.StringIO(uploaded['train3.csv'].decode('utf-8')))\n",
        "train.shape"
      ],
      "execution_count": 4,
      "outputs": [
        {
          "output_type": "execute_result",
          "data": {
            "text/plain": [
              "(200000, 18)"
            ]
          },
          "metadata": {
            "tags": []
          },
          "execution_count": 4
        }
      ]
    },
    {
      "metadata": {
        "id": "G3CBUnxVlZhh",
        "colab_type": "code",
        "colab": {
          "resources": {
            "http://localhost:8080/nbextensions/google.colab/files.js": {
              "data": "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",
              "ok": true,
              "headers": [
                [
                  "content-type",
                  "application/javascript"
                ]
              ],
              "status": 200,
              "status_text": ""
            }
          },
          "base_uri": "https://localhost:8080/",
          "height": 72
        },
        "outputId": "44f4fbfd-e3a2-4cca-b573-d278147f2b03"
      },
      "cell_type": "code",
      "source": [
        "uploaded = files.upload()"
      ],
      "execution_count": 5,
      "outputs": [
        {
          "output_type": "display_data",
          "data": {
            "text/html": [
              "\n",
              "     <input type=\"file\" id=\"files-6198cf7c-890e-4170-9662-5ccb54b5a44d\" name=\"files[]\" multiple disabled />\n",
              "     <output id=\"result-6198cf7c-890e-4170-9662-5ccb54b5a44d\">\n",
              "      Upload widget is only available when the cell has been executed in the\n",
              "      current browser session. Please rerun this cell to enable.\n",
              "      </output>\n",
              "      <script src=\"/nbextensions/google.colab/files.js\"></script> "
            ],
            "text/plain": [
              "<IPython.core.display.HTML object>"
            ]
          },
          "metadata": {
            "tags": []
          }
        },
        {
          "output_type": "stream",
          "text": [
            "Saving test3.csv to test3.csv\n"
          ],
          "name": "stdout"
        }
      ]
    },
    {
      "metadata": {
        "id": "hF7gTsYHlZkd",
        "colab_type": "code",
        "colab": {
          "base_uri": "https://localhost:8080/",
          "height": 34
        },
        "outputId": "9f739e78-571f-4a19-e259-e709a7063690"
      },
      "cell_type": "code",
      "source": [
        "for fn in uploaded.keys():\n",
        "  print('User uploaded file \"{name}\" with length {length} bytes'.format(\n",
        "      name=fn, length=len(uploaded[fn])))"
      ],
      "execution_count": 6,
      "outputs": [
        {
          "output_type": "stream",
          "text": [
            "User uploaded file \"test3.csv\" with length 1781145 bytes\n"
          ],
          "name": "stdout"
        }
      ]
    },
    {
      "metadata": {
        "id": "xXtOdXtylZod",
        "colab_type": "code",
        "colab": {
          "base_uri": "https://localhost:8080/",
          "height": 34
        },
        "outputId": "f920b286-8105-48f6-cd6a-ce6d789772d1"
      },
      "cell_type": "code",
      "source": [
        "test = pd.read_csv(io.StringIO(uploaded['test3.csv'].decode('utf-8')))\n",
        "test.shape"
      ],
      "execution_count": 7,
      "outputs": [
        {
          "output_type": "execute_result",
          "data": {
            "text/plain": [
              "(41601, 15)"
            ]
          },
          "metadata": {
            "tags": []
          },
          "execution_count": 7
        }
      ]
    },
    {
      "metadata": {
        "id": "lfJOB92xx3_M",
        "colab_type": "code",
        "colab": {}
      },
      "cell_type": "code",
      "source": [
        "train.columns \n",
        "colms=['MWG', 'NWG', 'KWG', 'MDIMC', 'NDIMC', 'MDIMA', 'NDIMB', 'KWI', 'VWM',\n",
        "       'VWN', 'STRM', 'STRN', 'SA', 'SB']"
      ],
      "execution_count": 0,
      "outputs": []
    },
    {
      "metadata": {
        "id": "LzdbnnyWx4Ej",
        "colab_type": "code",
        "colab": {
          "base_uri": "https://localhost:8080/",
          "height": 347
        },
        "outputId": "bb032678-921c-44a6-f484-5a118b1573ee"
      },
      "cell_type": "code",
      "source": [
        "import matplotlib.pyplot as plt\n",
        "import pandas\n",
        "train.plot(kind='density', subplots=True, layout=(6,3), sharex=False)\n",
        "plt.show()"
      ],
      "execution_count": 15,
      "outputs": [
        {
          "output_type": "display_data",
          "data": {
            "image/png": "[encoded data removed]",
            "text/plain": [
              "<matplotlib.figure.Figure at 0x7f7e6e2117f0>"
            ]
          },
          "metadata": {
            "tags": []
          }
        }
      ]
    },
    {
      "metadata": {
        "id": "mENR3GEIx39R",
        "colab_type": "code",
        "colab": {}
      },
      "cell_type": "code",
      "source": [
        " \n",
        "train.hist()\n",
        "plt.show()"
      ],
      "execution_count": 0,
      "outputs": []
    },
    {
      "metadata": {
        "id": "NV03US5PqTnV",
        "colab_type": "code",
        "colab": {}
      },
      "cell_type": "code",
      "source": [
        "idx=test.iloc[:,0]\n",
        "test_1=test.iloc[:,1:15]"
      ],
      "execution_count": 0,
      "outputs": []
    },
    {
      "metadata": {
        "id": "8tDTQC1JqT0k",
        "colab_type": "code",
        "colab": {}
      },
      "cell_type": "code",
      "source": [
        " for i in range(14):\n",
        "  labelencoder_X = LabelEncoder()\n",
        "  test_1.iloc[:, i] = labelencoder_X.fit_transform(test_1.iloc[:, i])\n",
        "onehotencoder = OneHotEncoder(categorical_features = [0,1,2,3,4,5,6,7,8,9,10,11,12,13])\n",
        "test_1 = onehotencoder.fit_transform(test_1).toarray()"
      ],
      "execution_count": 0,
      "outputs": []
    },
    {
      "metadata": {
        "id": "q-KHMUblqTxb",
        "colab_type": "code",
        "colab": {}
      },
      "cell_type": "code",
      "source": [
        ""
      ],
      "execution_count": 0,
      "outputs": []
    },
    {
      "metadata": {
        "id": "T64XII1GlZb4",
        "colab_type": "code",
        "colab": {}
      },
      "cell_type": "code",
      "source": [
        "ann = neural_network.MLPRegressor(shuffle=True,\n",
        "                                  alpha=2,\n",
        "                                  hidden_layer_sizes=(200, 200, 200, 200,200),\n",
        "                                  tol=0,\n",
        "                                  max_iter=5000, verbose=False,\n",
        "                                  random_state=1000)"
      ],
      "execution_count": 0,
      "outputs": []
    },
    {
      "metadata": {
        "id": "Sg3-3QAClnx1",
        "colab_type": "code",
        "colab": {}
      },
      "cell_type": "code",
      "source": [
        "X=train.iloc[:,0:14].values\n",
        "y=train.iloc[:,14:18].values\n",
        "# Encoding categorical data\n",
        "from sklearn.preprocessing import LabelEncoder, OneHotEncoder\n",
        "for i in range(14):\n",
        "  labelencoder_X = LabelEncoder()\n",
        "  X[:, i] = labelencoder_X.fit_transform(X[:, i])\n",
        "onehotencoder = OneHotEncoder(categorical_features = [0,1,2,3,4,5,6,7,8,9,10,11,12,13])\n",
        "X = onehotencoder.fit_transform(X).toarray()\n",
        " \n",
        "\n",
        "# Splitting the dataset into the Training set and Test set\n",
        "from sklearn.model_selection import train_test_split\n",
        "X_train, X_test, y_train, y_test = train_test_split(X, y, test_size = 0.2, random_state = 0)"
      ],
      "execution_count": 0,
      "outputs": []
    },
    {
      "metadata": {
        "id": "nq66EEwjln1G",
        "colab_type": "code",
        "colab": {
          "base_uri": "https://localhost:8080/",
          "height": 136
        },
        "outputId": "e0f79a2c-232f-467e-ce6c-f30ff5bbdfbd"
      },
      "cell_type": "code",
      "source": [
        "ann.fit(X_train,y_train)"
      ],
      "execution_count": 11,
      "outputs": [
        {
          "output_type": "execute_result",
          "data": {
            "text/plain": [
              "MLPRegressor(activation='relu', alpha=2, batch_size='auto', beta_1=0.9,\n",
              "       beta_2=0.999, early_stopping=False, epsilon=1e-08,\n",
              "       hidden_layer_sizes=(200, 200, 200, 200, 200),\n",
              "       learning_rate='constant', learning_rate_init=0.001, max_iter=5000,\n",
              "       momentum=0.9, nesterovs_momentum=True, power_t=0.5,\n",
              "       random_state=1000, shuffle=True, solver='adam', tol=0,\n",
              "       validation_fraction=0.1, verbose=False, warm_start=False)"
            ]
          },
          "metadata": {
            "tags": []
          },
          "execution_count": 11
        }
      ]
    },
    {
      "metadata": {
        "id": "3wRGDy5nln6e",
        "colab_type": "code",
        "colab": {}
      },
      "cell_type": "code",
      "source": [
        "y_pred = ann.predict(X_test)"
      ],
      "execution_count": 0,
      "outputs": []
    },
    {
      "metadata": {
        "id": "vxHMJt6FloAJ",
        "colab_type": "code",
        "colab": {}
      },
      "cell_type": "code",
      "source": [
        "from sklearn.metrics import mean_squared_error\n",
        "from math import sqrt\n",
        "\n",
        "rms = sqrt(mean_squared_error(y_test, y_pred))"
      ],
      "execution_count": 0,
      "outputs": []
    },
    {
      "metadata": {
        "id": "p_w5B47kloFQ",
        "colab_type": "code",
        "colab": {
          "base_uri": "https://localhost:8080/",
          "height": 34
        },
        "outputId": "ecb376f4-386a-4b80-ac62-bcb3a9c27735"
      },
      "cell_type": "code",
      "source": [
        "rms"
      ],
      "execution_count": 14,
      "outputs": [
        {
          "output_type": "execute_result",
          "data": {
            "text/plain": [
              "9.683106316837254"
            ]
          },
          "metadata": {
            "tags": []
          },
          "execution_count": 14
        }
      ]
    },
    {
      "metadata": {
        "id": "Ij4uGuR5loMT",
        "colab_type": "code",
        "colab": {}
      },
      "cell_type": "code",
      "source": [
        "y_pred = ann.predict(test_1)"
      ],
      "execution_count": 0,
      "outputs": []
    },
    {
      "metadata": {
        "id": "XwbKPRHqloDm",
        "colab_type": "code",
        "colab": {
          "base_uri": "https://localhost:8080/",
          "height": 119
        },
        "outputId": "ae02f8e4-e047-45b0-b677-2cdb2b6b35c4"
      },
      "cell_type": "code",
      "source": [
        "colms=['Run1 (ms)','Run2 (ms)','Run3 (ms)','Run4 (ms)']\n",
        "y_prediction=pd.DataFrame(y_pred,columns=colms)\n",
        "y_prediction['Run1 (ms)'].head()"
      ],
      "execution_count": 21,
      "outputs": [
        {
          "output_type": "execute_result",
          "data": {
            "text/plain": [
              "0    154.026731\n",
              "1    271.828659\n",
              "2    166.086939\n",
              "3    199.166130\n",
              "4    167.029331\n",
              "Name: Run1 (ms), dtype: float64"
            ]
          },
          "metadata": {
            "tags": []
          },
          "execution_count": 21
        }
      ]
    },
    {
      "metadata": {
        "id": "9zJem8lFloJA",
        "colab_type": "code",
        "colab": {
          "base_uri": "https://localhost:8080/",
          "height": 1969
        },
        "outputId": "7e5c2c08-7c01-41ef-a6b0-7d3bc2994d1c"
      },
      "cell_type": "code",
      "source": [
        " from collections import OrderedDict\n",
        "ans=OrderedDict([('Id', idx), ('Run1 (ms)', y_prediction['Run1 (ms)']),('Run2 (ms)', y_prediction['Run2 (ms)']),('Run3 (ms)', y_prediction['Run3 (ms)']),('Run4 (ms)', y_prediction['Run4 (ms)'])])\n",
        "submission = pd.DataFrame(ans)\n",
        "submission"
      ],
      "execution_count": 22,
      "outputs": [
        {
          "output_type": "execute_result",
          "data": {
            "text/html": [
              "<div>\n",
              "<style scoped>\n",
              "    .dataframe tbody tr th:only-of-type {\n",
              "        vertical-align: middle;\n",
              "    }\n",
              "\n",
              "    .dataframe tbody tr th {\n",
              "        vertical-align: top;\n",
              "    }\n",
              "\n",
              "    .dataframe thead th {\n",
              "        text-align: right;\n",
              "    }\n",
              "</style>\n",
              "<table border=\"1\" class=\"dataframe\">\n",
              "  <thead>\n",
              "    <tr style=\"text-align: right;\">\n",
              "      <th></th>\n",
              "      <th>Id</th>\n",
              "      <th>Run1 (ms)</th>\n",
              "      <th>Run2 (ms)</th>\n",
              "      <th>Run3 (ms)</th>\n",
              "      <th>Run4 (ms)</th>\n",
              "    </tr>\n",
              "  </thead>\n",
              "  <tbody>\n",
              "    <tr>\n",
              "      <th>0</th>\n",
              "      <td>Id_1</td>\n",
              "      <td>154.026731</td>\n",
              "      <td>154.516484</td>\n",
              "      <td>154.594362</td>\n",
              "      <td>154.529222</td>\n",
              "    </tr>\n",
              "    <tr>\n",
              "      <th>1</th>\n",
              "      <td>Id_2</td>\n",
              "      <td>271.828659</td>\n",
              "      <td>272.030878</td>\n",
              "      <td>272.197945</td>\n",
              "      <td>272.430528</td>\n",
              "    </tr>\n",
              "    <tr>\n",
              "      <th>2</th>\n",
              "      <td>Id_3</td>\n",
              "      <td>166.086939</td>\n",
              "      <td>166.470893</td>\n",
              "      <td>166.609798</td>\n",
              "      <td>166.506850</td>\n",
              "    </tr>\n",
              "    <tr>\n",
              "      <th>3</th>\n",
              "      <td>Id_4</td>\n",
              "      <td>199.166130</td>\n",
              "      <td>199.206192</td>\n",
              "      <td>199.327158</td>\n",
              "      <td>199.377301</td>\n",
              "    </tr>\n",
              "    <tr>\n",
              "      <th>4</th>\n",
              "      <td>Id_5</td>\n",
              "      <td>167.029331</td>\n",
              "      <td>167.609063</td>\n",
              "      <td>167.759131</td>\n",
              "      <td>167.644188</td>\n",
              "    </tr>\n",
              "    <tr>\n",
              "      <th>5</th>\n",
              "      <td>Id_6</td>\n",
              "      <td>252.650359</td>\n",
              "      <td>252.552692</td>\n",
              "      <td>252.743801</td>\n",
              "      <td>252.994526</td>\n",
              "    </tr>\n",
              "    <tr>\n",
              "      <th>6</th>\n",
              "      <td>Id_7</td>\n",
              "      <td>257.613345</td>\n",
              "      <td>257.704519</td>\n",
              "      <td>257.938432</td>\n",
              "      <td>258.137945</td>\n",
              "    </tr>\n",
              "    <tr>\n",
              "      <th>7</th>\n",
              "      <td>Id_8</td>\n",
              "      <td>179.973858</td>\n",
              "      <td>180.140732</td>\n",
              "      <td>180.146117</td>\n",
              "      <td>180.270938</td>\n",
              "    </tr>\n",
              "    <tr>\n",
              "      <th>8</th>\n",
              "      <td>Id_9</td>\n",
              "      <td>208.865205</td>\n",
              "      <td>210.216879</td>\n",
              "      <td>210.338505</td>\n",
              "      <td>209.969773</td>\n",
              "    </tr>\n",
              "    <tr>\n",
              "      <th>9</th>\n",
              "      <td>Id_10</td>\n",
              "      <td>243.481337</td>\n",
              "      <td>243.286973</td>\n",
              "      <td>243.465612</td>\n",
              "      <td>243.657764</td>\n",
              "    </tr>\n",
              "    <tr>\n",
              "      <th>10</th>\n",
              "      <td>Id_11</td>\n",
              "      <td>199.612703</td>\n",
              "      <td>200.698031</td>\n",
              "      <td>200.755344</td>\n",
              "      <td>200.579581</td>\n",
              "    </tr>\n",
              "    <tr>\n",
              "      <th>11</th>\n",
              "      <td>Id_12</td>\n",
              "      <td>180.228054</td>\n",
              "      <td>180.420570</td>\n",
              "      <td>180.403633</td>\n",
              "      <td>180.534970</td>\n",
              "    </tr>\n",
              "    <tr>\n",
              "      <th>12</th>\n",
              "      <td>Id_13</td>\n",
              "      <td>244.505101</td>\n",
              "      <td>244.510108</td>\n",
              "      <td>244.670544</td>\n",
              "      <td>244.862235</td>\n",
              "    </tr>\n",
              "    <tr>\n",
              "      <th>13</th>\n",
              "      <td>Id_14</td>\n",
              "      <td>185.560094</td>\n",
              "      <td>186.725147</td>\n",
              "      <td>186.649574</td>\n",
              "      <td>186.430275</td>\n",
              "    </tr>\n",
              "    <tr>\n",
              "      <th>14</th>\n",
              "      <td>Id_15</td>\n",
              "      <td>185.901546</td>\n",
              "      <td>186.015222</td>\n",
              "      <td>186.044097</td>\n",
              "      <td>186.039500</td>\n",
              "    </tr>\n",
              "    <tr>\n",
              "      <th>15</th>\n",
              "      <td>Id_16</td>\n",
              "      <td>220.281741</td>\n",
              "      <td>220.937798</td>\n",
              "      <td>221.033042</td>\n",
              "      <td>220.690653</td>\n",
              "    </tr>\n",
              "    <tr>\n",
              "      <th>16</th>\n",
              "      <td>Id_17</td>\n",
              "      <td>187.482093</td>\n",
              "      <td>187.488372</td>\n",
              "      <td>187.489017</td>\n",
              "      <td>187.518519</td>\n",
              "    </tr>\n",
              "    <tr>\n",
              "      <th>17</th>\n",
              "      <td>Id_18</td>\n",
              "      <td>172.878636</td>\n",
              "      <td>172.877273</td>\n",
              "      <td>172.839040</td>\n",
              "      <td>172.923448</td>\n",
              "    </tr>\n",
              "    <tr>\n",
              "      <th>18</th>\n",
              "      <td>Id_19</td>\n",
              "      <td>182.977789</td>\n",
              "      <td>183.041648</td>\n",
              "      <td>182.953476</td>\n",
              "      <td>183.076412</td>\n",
              "    </tr>\n",
              "    <tr>\n",
              "      <th>19</th>\n",
              "      <td>Id_20</td>\n",
              "      <td>180.166669</td>\n",
              "      <td>180.212746</td>\n",
              "      <td>180.144750</td>\n",
              "      <td>180.236007</td>\n",
              "    </tr>\n",
              "    <tr>\n",
              "      <th>20</th>\n",
              "      <td>Id_21</td>\n",
              "      <td>146.974552</td>\n",
              "      <td>146.775006</td>\n",
              "      <td>146.506642</td>\n",
              "      <td>146.790997</td>\n",
              "    </tr>\n",
              "    <tr>\n",
              "      <th>21</th>\n",
              "      <td>Id_22</td>\n",
              "      <td>166.657689</td>\n",
              "      <td>166.777682</td>\n",
              "      <td>166.694286</td>\n",
              "      <td>166.753279</td>\n",
              "    </tr>\n",
              "    <tr>\n",
              "      <th>22</th>\n",
              "      <td>Id_23</td>\n",
              "      <td>178.954409</td>\n",
              "      <td>179.643291</td>\n",
              "      <td>179.406296</td>\n",
              "      <td>179.278940</td>\n",
              "    </tr>\n",
              "    <tr>\n",
              "      <th>23</th>\n",
              "      <td>Id_24</td>\n",
              "      <td>141.609796</td>\n",
              "      <td>141.758420</td>\n",
              "      <td>141.517540</td>\n",
              "      <td>141.733676</td>\n",
              "    </tr>\n",
              "    <tr>\n",
              "      <th>24</th>\n",
              "      <td>Id_25</td>\n",
              "      <td>156.778626</td>\n",
              "      <td>157.016713</td>\n",
              "      <td>156.880083</td>\n",
              "      <td>156.949166</td>\n",
              "    </tr>\n",
              "    <tr>\n",
              "      <th>25</th>\n",
              "      <td>Id_26</td>\n",
              "      <td>191.909173</td>\n",
              "      <td>192.765092</td>\n",
              "      <td>192.523873</td>\n",
              "      <td>192.455671</td>\n",
              "    </tr>\n",
              "    <tr>\n",
              "      <th>26</th>\n",
              "      <td>Id_27</td>\n",
              "      <td>290.906622</td>\n",
              "      <td>291.336291</td>\n",
              "      <td>291.521127</td>\n",
              "      <td>291.732022</td>\n",
              "    </tr>\n",
              "    <tr>\n",
              "      <th>27</th>\n",
              "      <td>Id_28</td>\n",
              "      <td>184.045051</td>\n",
              "      <td>183.853606</td>\n",
              "      <td>183.737315</td>\n",
              "      <td>183.896352</td>\n",
              "    </tr>\n",
              "    <tr>\n",
              "      <th>28</th>\n",
              "      <td>Id_29</td>\n",
              "      <td>213.391504</td>\n",
              "      <td>214.539220</td>\n",
              "      <td>214.567596</td>\n",
              "      <td>214.373435</td>\n",
              "    </tr>\n",
              "    <tr>\n",
              "      <th>29</th>\n",
              "      <td>Id_30</td>\n",
              "      <td>190.457920</td>\n",
              "      <td>190.552925</td>\n",
              "      <td>190.499146</td>\n",
              "      <td>190.613542</td>\n",
              "    </tr>\n",
              "    <tr>\n",
              "      <th>...</th>\n",
              "      <td>...</td>\n",
              "      <td>...</td>\n",
              "      <td>...</td>\n",
              "      <td>...</td>\n",
              "      <td>...</td>\n",
              "    </tr>\n",
              "    <tr>\n",
              "      <th>41571</th>\n",
              "      <td>Id_41572</td>\n",
              "      <td>169.419271</td>\n",
              "      <td>169.961175</td>\n",
              "      <td>169.824564</td>\n",
              "      <td>169.808473</td>\n",
              "    </tr>\n",
              "    <tr>\n",
              "      <th>41572</th>\n",
              "      <td>Id_41573</td>\n",
              "      <td>325.280386</td>\n",
              "      <td>327.178736</td>\n",
              "      <td>327.321883</td>\n",
              "      <td>327.370028</td>\n",
              "    </tr>\n",
              "    <tr>\n",
              "      <th>41573</th>\n",
              "      <td>Id_41574</td>\n",
              "      <td>144.067114</td>\n",
              "      <td>144.665332</td>\n",
              "      <td>144.549369</td>\n",
              "      <td>144.564349</td>\n",
              "    </tr>\n",
              "    <tr>\n",
              "      <th>41574</th>\n",
              "      <td>Id_41575</td>\n",
              "      <td>325.573387</td>\n",
              "      <td>327.753657</td>\n",
              "      <td>327.944359</td>\n",
              "      <td>327.847253</td>\n",
              "    </tr>\n",
              "    <tr>\n",
              "      <th>41575</th>\n",
              "      <td>Id_41576</td>\n",
              "      <td>402.448281</td>\n",
              "      <td>404.787442</td>\n",
              "      <td>405.198564</td>\n",
              "      <td>405.118785</td>\n",
              "    </tr>\n",
              "    <tr>\n",
              "      <th>41576</th>\n",
              "      <td>Id_41577</td>\n",
              "      <td>129.893246</td>\n",
              "      <td>130.233852</td>\n",
              "      <td>130.069769</td>\n",
              "      <td>130.054924</td>\n",
              "    </tr>\n",
              "    <tr>\n",
              "      <th>41577</th>\n",
              "      <td>Id_41578</td>\n",
              "      <td>289.548910</td>\n",
              "      <td>290.991149</td>\n",
              "      <td>290.809733</td>\n",
              "      <td>290.906227</td>\n",
              "    </tr>\n",
              "    <tr>\n",
              "      <th>41578</th>\n",
              "      <td>Id_41579</td>\n",
              "      <td>285.666341</td>\n",
              "      <td>287.109444</td>\n",
              "      <td>287.060483</td>\n",
              "      <td>287.082058</td>\n",
              "    </tr>\n",
              "    <tr>\n",
              "      <th>41579</th>\n",
              "      <td>Id_41580</td>\n",
              "      <td>329.629943</td>\n",
              "      <td>332.029950</td>\n",
              "      <td>332.010853</td>\n",
              "      <td>331.939974</td>\n",
              "    </tr>\n",
              "    <tr>\n",
              "      <th>41580</th>\n",
              "      <td>Id_41581</td>\n",
              "      <td>130.953039</td>\n",
              "      <td>131.524632</td>\n",
              "      <td>131.293031</td>\n",
              "      <td>131.390155</td>\n",
              "    </tr>\n",
              "    <tr>\n",
              "      <th>41581</th>\n",
              "      <td>Id_41582</td>\n",
              "      <td>336.579203</td>\n",
              "      <td>339.276316</td>\n",
              "      <td>339.205857</td>\n",
              "      <td>339.142244</td>\n",
              "    </tr>\n",
              "    <tr>\n",
              "      <th>41582</th>\n",
              "      <td>Id_41583</td>\n",
              "      <td>156.754933</td>\n",
              "      <td>156.998386</td>\n",
              "      <td>156.901358</td>\n",
              "      <td>156.955544</td>\n",
              "    </tr>\n",
              "    <tr>\n",
              "      <th>41583</th>\n",
              "      <td>Id_41584</td>\n",
              "      <td>366.981140</td>\n",
              "      <td>368.947667</td>\n",
              "      <td>368.937568</td>\n",
              "      <td>368.996235</td>\n",
              "    </tr>\n",
              "    <tr>\n",
              "      <th>41584</th>\n",
              "      <td>Id_41585</td>\n",
              "      <td>149.531386</td>\n",
              "      <td>149.956739</td>\n",
              "      <td>149.777015</td>\n",
              "      <td>149.945575</td>\n",
              "    </tr>\n",
              "    <tr>\n",
              "      <th>41585</th>\n",
              "      <td>Id_41586</td>\n",
              "      <td>313.788704</td>\n",
              "      <td>315.641448</td>\n",
              "      <td>315.625905</td>\n",
              "      <td>315.651925</td>\n",
              "    </tr>\n",
              "    <tr>\n",
              "      <th>41586</th>\n",
              "      <td>Id_41587</td>\n",
              "      <td>322.791137</td>\n",
              "      <td>324.882340</td>\n",
              "      <td>324.918710</td>\n",
              "      <td>325.083279</td>\n",
              "    </tr>\n",
              "    <tr>\n",
              "      <th>41587</th>\n",
              "      <td>Id_41588</td>\n",
              "      <td>347.799665</td>\n",
              "      <td>349.870968</td>\n",
              "      <td>349.826314</td>\n",
              "      <td>349.924522</td>\n",
              "    </tr>\n",
              "    <tr>\n",
              "      <th>41588</th>\n",
              "      <td>Id_41589</td>\n",
              "      <td>293.159158</td>\n",
              "      <td>295.973145</td>\n",
              "      <td>295.867289</td>\n",
              "      <td>295.891130</td>\n",
              "    </tr>\n",
              "    <tr>\n",
              "      <th>41589</th>\n",
              "      <td>Id_41590</td>\n",
              "      <td>318.645474</td>\n",
              "      <td>320.734875</td>\n",
              "      <td>320.694821</td>\n",
              "      <td>320.880261</td>\n",
              "    </tr>\n",
              "    <tr>\n",
              "      <th>41590</th>\n",
              "      <td>Id_41591</td>\n",
              "      <td>305.219268</td>\n",
              "      <td>308.104933</td>\n",
              "      <td>308.196401</td>\n",
              "      <td>308.098782</td>\n",
              "    </tr>\n",
              "    <tr>\n",
              "      <th>41591</th>\n",
              "      <td>Id_41592</td>\n",
              "      <td>330.870500</td>\n",
              "      <td>332.847502</td>\n",
              "      <td>332.888549</td>\n",
              "      <td>332.917442</td>\n",
              "    </tr>\n",
              "    <tr>\n",
              "      <th>41592</th>\n",
              "      <td>Id_41593</td>\n",
              "      <td>336.687352</td>\n",
              "      <td>338.801318</td>\n",
              "      <td>339.143264</td>\n",
              "      <td>339.106751</td>\n",
              "    </tr>\n",
              "    <tr>\n",
              "      <th>41593</th>\n",
              "      <td>Id_41594</td>\n",
              "      <td>331.936883</td>\n",
              "      <td>333.895663</td>\n",
              "      <td>334.129236</td>\n",
              "      <td>334.117659</td>\n",
              "    </tr>\n",
              "    <tr>\n",
              "      <th>41594</th>\n",
              "      <td>Id_41595</td>\n",
              "      <td>234.576341</td>\n",
              "      <td>235.285679</td>\n",
              "      <td>235.235305</td>\n",
              "      <td>235.241817</td>\n",
              "    </tr>\n",
              "    <tr>\n",
              "      <th>41595</th>\n",
              "      <td>Id_41596</td>\n",
              "      <td>271.348830</td>\n",
              "      <td>272.681382</td>\n",
              "      <td>272.525505</td>\n",
              "      <td>272.778130</td>\n",
              "    </tr>\n",
              "    <tr>\n",
              "      <th>41596</th>\n",
              "      <td>Id_41597</td>\n",
              "      <td>286.039467</td>\n",
              "      <td>287.475222</td>\n",
              "      <td>287.347902</td>\n",
              "      <td>287.491387</td>\n",
              "    </tr>\n",
              "    <tr>\n",
              "      <th>41597</th>\n",
              "      <td>Id_41598</td>\n",
              "      <td>167.465535</td>\n",
              "      <td>167.720183</td>\n",
              "      <td>167.546088</td>\n",
              "      <td>167.521516</td>\n",
              "    </tr>\n",
              "    <tr>\n",
              "      <th>41598</th>\n",
              "      <td>Id_41599</td>\n",
              "      <td>127.199122</td>\n",
              "      <td>127.134623</td>\n",
              "      <td>127.032718</td>\n",
              "      <td>127.089513</td>\n",
              "    </tr>\n",
              "    <tr>\n",
              "      <th>41599</th>\n",
              "      <td>Id_41600</td>\n",
              "      <td>228.111820</td>\n",
              "      <td>228.107208</td>\n",
              "      <td>228.264833</td>\n",
              "      <td>228.484162</td>\n",
              "    </tr>\n",
              "    <tr>\n",
              "      <th>41600</th>\n",
              "      <td>Id_41601</td>\n",
              "      <td>243.013323</td>\n",
              "      <td>243.514117</td>\n",
              "      <td>243.495470</td>\n",
              "      <td>243.759760</td>\n",
              "    </tr>\n",
              "  </tbody>\n",
              "</table>\n",
              "<p>41601 rows × 5 columns</p>\n",
              "</div>"
            ],
            "text/plain": [
              "             Id   Run1 (ms)   Run2 (ms)   Run3 (ms)   Run4 (ms)\n",
              "0          Id_1  154.026731  154.516484  154.594362  154.529222\n",
              "1          Id_2  271.828659  272.030878  272.197945  272.430528\n",
              "2          Id_3  166.086939  166.470893  166.609798  166.506850\n",
              "3          Id_4  199.166130  199.206192  199.327158  199.377301\n",
              "4          Id_5  167.029331  167.609063  167.759131  167.644188\n",
              "5          Id_6  252.650359  252.552692  252.743801  252.994526\n",
              "6          Id_7  257.613345  257.704519  257.938432  258.137945\n",
              "7          Id_8  179.973858  180.140732  180.146117  180.270938\n",
              "8          Id_9  208.865205  210.216879  210.338505  209.969773\n",
              "9         Id_10  243.481337  243.286973  243.465612  243.657764\n",
              "10        Id_11  199.612703  200.698031  200.755344  200.579581\n",
              "11        Id_12  180.228054  180.420570  180.403633  180.534970\n",
              "12        Id_13  244.505101  244.510108  244.670544  244.862235\n",
              "13        Id_14  185.560094  186.725147  186.649574  186.430275\n",
              "14        Id_15  185.901546  186.015222  186.044097  186.039500\n",
              "15        Id_16  220.281741  220.937798  221.033042  220.690653\n",
              "16        Id_17  187.482093  187.488372  187.489017  187.518519\n",
              "17        Id_18  172.878636  172.877273  172.839040  172.923448\n",
              "18        Id_19  182.977789  183.041648  182.953476  183.076412\n",
              "19        Id_20  180.166669  180.212746  180.144750  180.236007\n",
              "20        Id_21  146.974552  146.775006  146.506642  146.790997\n",
              "21        Id_22  166.657689  166.777682  166.694286  166.753279\n",
              "22        Id_23  178.954409  179.643291  179.406296  179.278940\n",
              "23        Id_24  141.609796  141.758420  141.517540  141.733676\n",
              "24        Id_25  156.778626  157.016713  156.880083  156.949166\n",
              "25        Id_26  191.909173  192.765092  192.523873  192.455671\n",
              "26        Id_27  290.906622  291.336291  291.521127  291.732022\n",
              "27        Id_28  184.045051  183.853606  183.737315  183.896352\n",
              "28        Id_29  213.391504  214.539220  214.567596  214.373435\n",
              "29        Id_30  190.457920  190.552925  190.499146  190.613542\n",
              "...         ...         ...         ...         ...         ...\n",
              "41571  Id_41572  169.419271  169.961175  169.824564  169.808473\n",
              "41572  Id_41573  325.280386  327.178736  327.321883  327.370028\n",
              "41573  Id_41574  144.067114  144.665332  144.549369  144.564349\n",
              "41574  Id_41575  325.573387  327.753657  327.944359  327.847253\n",
              "41575  Id_41576  402.448281  404.787442  405.198564  405.118785\n",
              "41576  Id_41577  129.893246  130.233852  130.069769  130.054924\n",
              "41577  Id_41578  289.548910  290.991149  290.809733  290.906227\n",
              "41578  Id_41579  285.666341  287.109444  287.060483  287.082058\n",
              "41579  Id_41580  329.629943  332.029950  332.010853  331.939974\n",
              "41580  Id_41581  130.953039  131.524632  131.293031  131.390155\n",
              "41581  Id_41582  336.579203  339.276316  339.205857  339.142244\n",
              "41582  Id_41583  156.754933  156.998386  156.901358  156.955544\n",
              "41583  Id_41584  366.981140  368.947667  368.937568  368.996235\n",
              "41584  Id_41585  149.531386  149.956739  149.777015  149.945575\n",
              "41585  Id_41586  313.788704  315.641448  315.625905  315.651925\n",
              "41586  Id_41587  322.791137  324.882340  324.918710  325.083279\n",
              "41587  Id_41588  347.799665  349.870968  349.826314  349.924522\n",
              "41588  Id_41589  293.159158  295.973145  295.867289  295.891130\n",
              "41589  Id_41590  318.645474  320.734875  320.694821  320.880261\n",
              "41590  Id_41591  305.219268  308.104933  308.196401  308.098782\n",
              "41591  Id_41592  330.870500  332.847502  332.888549  332.917442\n",
              "41592  Id_41593  336.687352  338.801318  339.143264  339.106751\n",
              "41593  Id_41594  331.936883  333.895663  334.129236  334.117659\n",
              "41594  Id_41595  234.576341  235.285679  235.235305  235.241817\n",
              "41595  Id_41596  271.348830  272.681382  272.525505  272.778130\n",
              "41596  Id_41597  286.039467  287.475222  287.347902  287.491387\n",
              "41597  Id_41598  167.465535  167.720183  167.546088  167.521516\n",
              "41598  Id_41599  127.199122  127.134623  127.032718  127.089513\n",
              "41599  Id_41600  228.111820  228.107208  228.264833  228.484162\n",
              "41600  Id_41601  243.013323  243.514117  243.495470  243.759760\n",
              "\n",
              "[41601 rows x 5 columns]"
            ]
          },
          "metadata": {
            "tags": []
          },
          "execution_count": 22
        }
      ]
    },
    {
      "metadata": {
        "id": "O8znA6sRln-f",
        "colab_type": "code",
        "colab": {}
      },
      "cell_type": "code",
      "source": [
        "submission.to_csv('finalsubmission1.csv', index=False)\n",
        "files.download('finalsubmission1.csv')"
      ],
      "execution_count": 0,
      "outputs": []
    },
    {
      "metadata": {
        "id": "C3yj2o35ln4w",
        "colab_type": "code",
        "colab": {}
      },
      "cell_type": "code",
      "source": [
        ""
      ],
      "execution_count": 0,
      "outputs": []
    }
  ]
}